{
 "cells": [
  {
   "cell_type": "code",
   "execution_count": 1,
   "metadata": {},
   "outputs": [],
   "source": [
    "import torch\n",
    "import numpy as np\n",
    "import cv2\n",
    "from PIL import Image\n",
    "from torchvision.datasets import ImageFolder\n",
    "from torch.utils.data import DataLoader\n",
    "from torchvision.transforms import Compose\n",
    "from torchvision import transforms\n",
    "\n",
    "from matplotlib import pyplot as plt"
   ]
  },
  {
   "cell_type": "code",
   "execution_count": 2,
   "metadata": {},
   "outputs": [],
   "source": [
    "\n",
    "def label_map(index):\n",
    "    index = int(index)\n",
    "    if index == 0:\n",
    "        return 'COMPLETE FEATURE'\n",
    "    elif index == 1:\n",
    "        return 'BORDERTOUCHER'\n",
    "    elif index == 2:\n",
    "        return 'NO FEATURE'\n",
    "    else:\n",
    "        return 'unkown'\n"
   ]
  },
  {
   "cell_type": "code",
   "execution_count": 253,
   "metadata": {},
   "outputs": [],
   "source": [
    "def find_ellipse(image, binary_threshold = 100, contour_length=5, min_area=10, circ = 0.5, p=0.5):\n",
    "    \n",
    "    contours = find_contours(segmentation)\n",
    "    ellipses = []\n",
    "    pi_4 = np.pi * 4\n",
    "    ellipses_contour = image.copy()\n",
    "    for i, contour in enumerate(contours):\n",
    "        if len(contour) >= contour_length:\n",
    "            area = cv2.contourArea(contour)\n",
    "            if area >= min_area:  # skip ellipses smaller then 10x10\n",
    "\n",
    "                arclen = cv2.arcLength(contour, True)\n",
    "                circularity = (pi_4 * area) / (arclen * arclen)\n",
    "                if circularity >= circ:\n",
    "                    ellipses.append(ellipses_of_contour(contour))\n",
    "\n",
    "    return ellipses\n",
    "\n",
    "def threshold(image, thres):\n",
    "    (t, segmentation) = cv2.threshold(image, thres, 255, cv2.THRESH_BINARY)\n",
    "    return segmentation\n",
    "\n",
    "def find_contours(segmentation):\n",
    "    _, contours, _ = cv2.findContours(segmentation, cv2.RETR_LIST, cv2.CHAIN_APPROX_TC89_L1)\n",
    "    return contours\n",
    "\n",
    "def ellipses_of_contour(contour, num_cont=5):\n",
    "    if len(contour) <= 5:\n",
    "        return None\n",
    "    return cv2.fitEllipse(contour)\n",
    "    \n",
    "def attributes_of_ellipses(ellipses):\n",
    "    center = ellipses[0]\n",
    "    axis = ellipses[1]\n",
    "    angle = ellipses[2]\n",
    "    area = np.pi * axis[0] * axis[1]\n",
    "    return center, axis, angle, area\n",
    "\n",
    "def draw_ellipse(image, ellipses, thickness = 2, color = (255,0,0)):\n",
    "    out = image.copy()\n",
    "    for ell in ellipses:\n",
    "        cv2.ellipse(out, ell, color, thickness)\n",
    "    return out\n",
    "    \n",
    "def area_of_ellipse(ellipse):\n",
    "    _,_,_, area = attributes_of_ellipses(ellipse)\n",
    "    return area"
   ]
  },
  {
   "cell_type": "code",
   "execution_count": 309,
   "metadata": {},
   "outputs": [],
   "source": [
    "def detect_features(pred, thres=200, min_prob=0.5):\n",
    "    im = back_tf(pred[0,0])\n",
    "    \n",
    "    binary_segmentation = threshold(im, thres)\n",
    "    contours = find_contours(segmentation)\n",
    "    \n",
    "    propabilities = []\n",
    "    ellipses = []\n",
    "    border_checker = []\n",
    "    \n",
    "    if not contours:\n",
    "        return ellipses, propabilities, border_checker\n",
    "    largest_area = 0\n",
    "    \n",
    "    largest_contour = contours[-1]\n",
    "    for c in contours:\n",
    "        if len(c) > 5:\n",
    "            area = cv2.contourArea(c)\n",
    "            if area > largest_area:\n",
    "                largest_area = area \n",
    "                largest_contour = c\n",
    "                \n",
    "    # check for propability\n",
    "    prob = get_propability(torch.sigmoid(pred[0,0]).numpy(), largest_contour)\n",
    "    \n",
    "    if prob < min_prob:\n",
    "        return [], [prob], [False]\n",
    "    \n",
    "    for c in contours:\n",
    "        if len(c) > 5:\n",
    "            ellipses.append(ellipses_of_contour(c))\n",
    "            border_checker.append(is_bordertoucher(torch.sigmoid(pred[0,0]).numpy(),ellipses[-1]))\n",
    "            propabilites.append(prob)\n",
    "            \n",
    "    return ellipses, propabilities, border_checker\n",
    "        "
   ]
  },
  {
   "cell_type": "code",
   "execution_count": 310,
   "metadata": {},
   "outputs": [],
   "source": [
    "def back_tf(tensor):\n",
    "    tensor = tensor.detach()\n",
    "    tensor = torch.sigmoid(tensor)\n",
    "    \n",
    "    tensor *= 255\n",
    "    tensor = tensor.int()\n",
    "    return tensor.numpy().astype(np.uint8)"
   ]
  },
  {
   "cell_type": "code",
   "execution_count": 311,
   "metadata": {},
   "outputs": [
    {
     "name": "stdout",
     "output_type": "stream",
     "text": [
      "/\n"
     ]
    }
   ],
   "source": [
    "%cd .."
   ]
  },
  {
   "cell_type": "code",
   "execution_count": 312,
   "metadata": {},
   "outputs": [],
   "source": [
    "data_dir = '/Users/lukassanner/Documents/ZeissHackathon/photomask_trainingdata'\n",
    "\n",
    "from vision.data_prep import DataSubSet\n",
    "ds = ImageFolder(data_dir)\n",
    "tf_eval = Compose([transforms.Grayscale(), transforms.ToTensor(),\n",
    "                       transforms.Normalize((0.4862745,), (0.1388,)), ])\n",
    "tf_back = Compose([transforms.Normalize((0.4862745,), (0.1388,)), transforms.ToPILImage(), transforms.Grayscale()])\n",
    "\n",
    "tf_train = Compose(\n",
    "        [transforms.Grayscale(), transforms.RandomHorizontalFlip(),\n",
    "         transforms.RandomVerticalFlip(), transforms.ToTensor(),\n",
    "         transforms.Normalize((0.4862745,), (0.1388,)), ])\n",
    "\n",
    "indexes = np.random.permutation((ds.__len__()))\n",
    "ds_eval = DataSubSet(ds, indexes[:-2], transform=tf_eval)\n",
    "ds_train = DataSubSet(ds, indexes[-2:], transform=tf_train)"
   ]
  },
  {
   "cell_type": "code",
   "execution_count": 313,
   "metadata": {},
   "outputs": [
    {
     "data": {
      "text/plain": [
       "SlimWide(\n",
       "  (convnet1): Sequential(\n",
       "    (0): Conv2d(1, 64, kernel_size=(7, 7), stride=(1, 1), padding=(1, 1))\n",
       "    (1): ReLU(inplace)\n",
       "  )\n",
       "  (convnet2): Sequential(\n",
       "    (0): Conv2d(64, 64, kernel_size=(7, 7), stride=(1, 1), padding=(1, 1))\n",
       "    (1): ReLU(inplace)\n",
       "  )\n",
       "  (convnet3): Sequential(\n",
       "    (0): Conv2d(64, 64, kernel_size=(7, 7), stride=(1, 1), padding=(1, 1))\n",
       "    (1): BatchNorm2d(64, eps=1e-05, momentum=0.1, affine=True, track_running_stats=True)\n",
       "    (2): AvgPool2d(kernel_size=2, stride=2, padding=0)\n",
       "    (3): ReLU(inplace)\n",
       "  )\n",
       "  (convnet4): Conv2d(64, 1, kernel_size=(1, 1), stride=(1, 1))\n",
       ")"
      ]
     },
     "execution_count": 313,
     "metadata": {},
     "output_type": "execute_result"
    }
   ],
   "source": [
    "def map_location(storage, loc):\n",
    "    return storage\n",
    "from vision.models import SlimWide\n",
    "\n",
    "from vision.geometry import*\n",
    "\n",
    "graph_dir = '/Users/lukassanner/Documents/ZeissHackathon/zeiss-lab/SlimWide_weakly_weak.pth'\n",
    "m = SlimWide()\n",
    "m.load_state_dict(torch.load(graph_dir, map_location=map_location))\n",
    "m.eval()"
   ]
  },
  {
   "cell_type": "code",
   "execution_count": 314,
   "metadata": {},
   "outputs": [],
   "source": [
    "\n",
    "\n",
    "if torch.cuda.is_available():\n",
    "    device = torch.device(\"cuda\")\n",
    "else:\n",
    "    device = torch.device(\"cpu\")\n",
    "    \n"
   ]
  },
  {
   "cell_type": "code",
   "execution_count": 340,
   "metadata": {},
   "outputs": [],
   "source": [
    "\n",
    "def get_propability(input, contour):\n",
    "    mask = np.zeros(input.shape, dtype=np.int8)\n",
    "    cv2.drawContours(mask, [contour], contourIdx=-1, color=1, thickness=-1)\n",
    "\n",
    "    el = ellipses_of_contour(contour=contour)\n",
    "\n",
    "    area = area_of_ellipse(el)\n",
    "    \n",
    "    p = np.sum(input[mask==1])/ area\n",
    "    print(np.min(input[mask==1]), np.max(input[mask==1]), np.sum(input[mask==1]),area)\n",
    "    plt.imshow(draw_ellipse(mask, [el]))\n",
    "    return p\n",
    "    "
   ]
  },
  {
   "cell_type": "code",
   "execution_count": 350,
   "metadata": {},
   "outputs": [
    {
     "data": {
      "text/plain": [
       "<matplotlib.image.AxesImage at 0x136c097f0>"
      ]
     },
     "execution_count": 350,
     "metadata": {},
     "output_type": "execute_result"
    },
    {
     "data": {
      "image/png": "[encoded data removed]",
      "text/plain": [
       "<Figure size 432x288 with 2 Axes>"
      ]
     },
     "metadata": {
      "needs_background": "light"
     },
     "output_type": "display_data"
    }
   ],
   "source": [
    "img, label = ds_eval.__getitem__(np.random.randint(ds_eval.__len__()))\n",
    "with torch.no_grad():\n",
    "    out = m(img.unsqueeze(0))\n",
    "  \n",
    "im = back_tf(out[0,0])\n",
    "(t, segmentation) = cv2.threshold(im, 100, 255, cv2.THRESH_BINARY)\n",
    "fig, ax = plt.subplots(1,2)\n",
    "ax[0].imshow(im)\n",
    "ax[1].imshow(segmentation)"
   ]
  },
  {
   "cell_type": "code",
   "execution_count": 351,
   "metadata": {},
   "outputs": [
    {
     "name": "stdout",
     "output_type": "stream",
     "text": [
      "0.21979573 0.999566 256.9815 1166.8116751413418\n",
      "([], [0.22024248798892657], [False])\n"
     ]
    },
    {
     "data": {
      "image/png": "[encoded data removed]",
      "text/plain": [
       "<Figure size 432x288 with 1 Axes>"
      ]
     },
     "metadata": {
      "needs_background": "light"
     },
     "output_type": "display_data"
    }
   ],
   "source": [
    "  \n",
    "detection = detect_features(out,120)\n",
    "print(detection)\n",
    "prediction_image = cv2.cvtColor(back_tf(out[0,0]), cv2.COLOR_GRAY2RGB)\n",
    "\n",
    "pred_ellipse, propabilities, labels = detection\n",
    "if pred_ellipse:\n",
    "    prediction_image=draw_ellipse(prediction_image, pred_ellipse, thickness=2, color=(255,0,0))\n",
    "    \n",
    "for el, p, label in zip(pred_ellipse, propabilities, labels):\n",
    "    print(f\"Ellipses@{el[0]}, with {p} and is borderchecker {label}\")\n"
   ]
  },
  {
   "cell_type": "code",
   "execution_count": 352,
   "metadata": {},
   "outputs": [
    {
     "data": {
      "text/plain": [
       "Text(0.5, 1.0, 'prediction:')"
      ]
     },
     "execution_count": 352,
     "metadata": {},
     "output_type": "execute_result"
    },
    {
     "data": {
      "image/png": "[encoded data removed]",
      "text/plain": [
       "<Figure size 432x288 with 1 Axes>"
      ]
     },
     "metadata": {
      "needs_background": "light"
     },
     "output_type": "display_data"
    }
   ],
   "source": [
    "plt.imshow(prediction_image)\n",
    "plt.title(f'prediction:')"
   ]
  },
  {
   "cell_type": "code",
   "execution_count": null,
   "metadata": {},
   "outputs": [],
   "source": []
  },
  {
   "cell_type": "code",
   "execution_count": null,
   "metadata": {},
   "outputs": [],
   "source": []
  },
  {
   "cell_type": "code",
   "execution_count": null,
   "metadata": {},
   "outputs": [],
   "source": [
    "get_propability(out[0,0], largest_ellipse)"
   ]
  },
  {
   "cell_type": "code",
   "execution_count": null,
   "metadata": {},
   "outputs": [],
   "source": []
  }
 ],
 "metadata": {
  "kernelspec": {
   "display_name": "Python 3",
   "language": "python",
   "name": "python3"
  },
  "language_info": {
   "codemirror_mode": {
    "name": "ipython",
    "version": 3
   },
   "file_extension": ".py",
   "mimetype": "text/x-python",
   "name": "python",
   "nbconvert_exporter": "python",
   "pygments_lexer": "ipython3",
   "version": "3.6.6"
  }
 },
 "nbformat": 4,
 "nbformat_minor": 2
}
