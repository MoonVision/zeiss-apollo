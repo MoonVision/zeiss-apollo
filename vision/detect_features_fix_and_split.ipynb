{
 "cells": [
  {
   "cell_type": "code",
   "execution_count": 1,
   "metadata": {},
   "outputs": [],
   "source": [
    "import torch\n",
    "import numpy as np\n",
    "import cv2\n",
    "from PIL import Image\n",
    "from torchvision.datasets import ImageFolder\n",
    "from torch.utils.data import DataLoader\n",
    "from torchvision.transforms import Compose\n",
    "from torchvision import transforms\n",
    "\n",
    "from matplotlib import pyplot as plt"
   ]
  },
  {
   "cell_type": "code",
   "execution_count": 33,
   "metadata": {},
   "outputs": [],
   "source": [
    "\n",
    "def label_map(index):\n",
    "    index = int(index)\n",
    "    if index == 0:\n",
    "        return 'COMPLETE FEATURE'\n",
    "    elif index == 1:\n",
    "        return 'BORDERTOUCHER'\n",
    "    elif index == 2:\n",
    "        return 'NO FEATURE'\n",
    "    else:\n",
    "        return 'unkown'\n",
    "\n",
    "    \n",
    "from geometry import is_bordertoucher"
   ]
  },
  {
   "cell_type": "code",
   "execution_count": 3,
   "metadata": {},
   "outputs": [],
   "source": [
    "def threshold(image, thres):\n",
    "    (t, segmentation) = cv2.threshold(image, thres, 255, cv2.THRESH_BINARY)\n",
    "    return segmentation\n",
    "\n",
    "def find_contours(segmentation):\n",
    "    _, contours, _ = cv2.findContours(segmentation, cv2.RETR_LIST, cv2.CHAIN_APPROX_TC89_L1)\n",
    "    return contours\n",
    "\n",
    "def find_ellipse(image, binary_threshold = 100, contour_length=5, min_area=10, circ = 0.5, p=0.5):\n",
    "    \n",
    "    contours = find_contours(threshold(image, binary_threshold))\n",
    "    ellipses = []\n",
    "    pi_4 = np.pi * 4\n",
    "    ellipses_contour = image.copy()\n",
    "    for i, contour in enumerate(contours):\n",
    "        if len(contour) >= contour_length:\n",
    "            area = cv2.contourArea(contour)\n",
    "            if area >= min_area:  # skip ellipses smaller then 10x10\n",
    "\n",
    "                arclen = cv2.arcLength(contour, True)\n",
    "                circularity = (pi_4 * area) / (arclen * arclen)\n",
    "                if circularity >= circ:\n",
    "                    ellipses.append(ellipses_of_contour(contour))\n",
    "\n",
    "    return ellipses\n",
    "\n",
    "def ellipses_of_contour(contour, num_cont=5):\n",
    "    if len(contour) <= num_cont:\n",
    "        return None\n",
    "    return cv2.fitEllipse(contour)\n",
    "    \n",
    "def attributes_of_ellipses(ellipses):\n",
    "    center = ellipses[0]\n",
    "    axis = ellipses[1]\n",
    "    angle = ellipses[2]\n",
    "    area = np.pi * axis[0] * axis[1]\n",
    "    return center, axis, angle, area\n",
    "\n",
    "def draw_ellipse(image, ellipses, thickness = 2, color = (255,0,0)):\n",
    "    out = image.copy()\n",
    "    for ell in ellipses:\n",
    "        cv2.ellipse(out, ell, color, thickness)\n",
    "    return out\n",
    "    \n",
    "def area_of_ellipse(ellipse):\n",
    "    _,_,_, area = attributes_of_ellipses(ellipse)\n",
    "    return area"
   ]
  },
  {
   "cell_type": "code",
   "execution_count": 15,
   "metadata": {},
   "outputs": [],
   "source": [
    "def back_tf(tensor):\n",
    "    tensor = tensor.detach()\n",
    "    tensor = torch.sigmoid(tensor)\n",
    "    \n",
    "    tensor *= 255\n",
    "    tensor = tensor.int()\n",
    "    return tensor.numpy().astype(np.uint8)"
   ]
  },
  {
   "cell_type": "code",
   "execution_count": 42,
   "metadata": {},
   "outputs": [],
   "source": [
    "def get_propability(input, contour):\n",
    "    mask = np.zeros(input.shape, dtype=np.int8)\n",
    "    cv2.drawContours(mask, [contour], contourIdx=-1, color=True, thickness=-1)\n",
    "\n",
    "    el = ellipses_of_contour(contour=contour)\n",
    "    area = area_of_ellipse(el)\n",
    "    \n",
    "    p = np.sum(input[mask]) / area\n",
    "    return p"
   ]
  },
  {
   "cell_type": "code",
   "execution_count": 48,
   "metadata": {},
   "outputs": [],
   "source": [
    "def detect_features(im, probs, thres=200, min_prob=0.5):\n",
    "    \n",
    "    binary_segmentation = threshold(im, thres)\n",
    "    contours = find_contours(binary_segmentation)\n",
    "    \n",
    "    propabilities = []\n",
    "    ellipses = []\n",
    "    border_checker = []\n",
    "    \n",
    "    if not contours:\n",
    "        return ellipses, propabilities, border_checker\n",
    "    largest_area = 0\n",
    "    \n",
    "    largest_contour = contours[-1]\n",
    "    for c in contours:\n",
    "        if len(c) > 5:\n",
    "            area = cv2.contourArea(c)\n",
    "            if area > largest_area:\n",
    "                largest_area = area \n",
    "                largest_contour = c\n",
    "                \n",
    "    # check for propability\n",
    "    prob = get_propability(probs, largest_contour)\n",
    "    \n",
    "    if prob < min_prob:\n",
    "        return [], [prob], [False]\n",
    "    \n",
    "    for c in contours:\n",
    "        if len(c) > 5:\n",
    "            ellipses.append(ellipses_of_contour(c))\n",
    "            border_checker.append(is_bordertoucher(mask, ellipses[-1]))\n",
    "            propabilities.append(prob)\n",
    "            \n",
    "    return ellipses, propabilities, border_checker"
   ]
  },
  {
   "cell_type": "code",
   "execution_count": 49,
   "metadata": {},
   "outputs": [],
   "source": [
    "#%cd .."
   ]
  },
  {
   "cell_type": "code",
   "execution_count": 50,
   "metadata": {},
   "outputs": [],
   "source": [
    "with open(\"vision/train.txt\") as f:\n",
    "    train_imgs = [s.strip() for s in f.readlines()]\n",
    "    \n",
    "with open(\"vision/eval.txt\") as f:\n",
    "    eval_imgs = [s.strip() for s in f.readlines()]"
   ]
  },
  {
   "cell_type": "code",
   "execution_count": 51,
   "metadata": {},
   "outputs": [],
   "source": [
    "import os"
   ]
  },
  {
   "cell_type": "code",
   "execution_count": 52,
   "metadata": {},
   "outputs": [],
   "source": [
    "from vision.data_prep import DataSubSet\n",
    "\n",
    "#data_dir = '/Users/lukassanner/Documents/ZeissHackathon/photomask_trainingdata'\n",
    "data_dir = \"photomask_trainingdata\"\n",
    "\n",
    "#We normalize to the mean dynamically\n",
    "def normalize_dynamic(tensor_img):\n",
    "    mean = torch.mean(tensor_img)\n",
    "    return (tensor_img-mean)/0.1388\n",
    "\n",
    "ds = ImageFolder(data_dir)\n",
    "tf_eval = Compose([transforms.Grayscale(),\n",
    "                   transforms.ToTensor(),\n",
    "                   normalize_dynamic\n",
    "                  ])\n",
    "\n",
    "\n",
    "indexes = np.random.permutation((ds.__len__()))\n",
    "ds_eval = DataSubSet(ds, [i for i in indexes if os.path.join(\"..\", ds.samples[i][0]) in eval_imgs], transform=tf_eval)\n",
    "ds_train = DataSubSet(ds, [i for i in indexes if os.path.join(\"..\", ds.samples[i][0]) in train_imgs], transform=tf_eval)\n",
    "assert len(ds_eval) + len(ds_train) == len(ds)"
   ]
  },
  {
   "cell_type": "code",
   "execution_count": 53,
   "metadata": {},
   "outputs": [
    {
     "data": {
      "text/plain": [
       "SlimWide(\n",
       "  (convnet1): Sequential(\n",
       "    (0): Conv2d(1, 64, kernel_size=(7, 7), stride=(1, 1), padding=(1, 1))\n",
       "    (1): ReLU(inplace)\n",
       "  )\n",
       "  (convnet2): Sequential(\n",
       "    (0): Conv2d(64, 64, kernel_size=(7, 7), stride=(1, 1), padding=(1, 1))\n",
       "    (1): ReLU(inplace)\n",
       "  )\n",
       "  (convnet3): Sequential(\n",
       "    (0): Conv2d(64, 64, kernel_size=(7, 7), stride=(1, 1), padding=(1, 1))\n",
       "    (1): BatchNorm2d(64, eps=1e-05, momentum=0.1, affine=True, track_running_stats=True)\n",
       "    (2): AvgPool2d(kernel_size=2, stride=2, padding=0)\n",
       "    (3): ReLU(inplace)\n",
       "  )\n",
       "  (convnet4): Conv2d(64, 1, kernel_size=(1, 1), stride=(1, 1))\n",
       ")"
      ]
     },
     "execution_count": 53,
     "metadata": {},
     "output_type": "execute_result"
    }
   ],
   "source": [
    "def map_location(storage, loc):\n",
    "    return storage\n",
    "from vision.models import SlimWide\n",
    "\n",
    "graph_dir = 'vision/SlimWide_weakly_3.pth'\n",
    "m = SlimWide()\n",
    "m.load_state_dict(torch.load(graph_dir, map_location=map_location))\n",
    "m.eval()"
   ]
  },
  {
   "cell_type": "code",
   "execution_count": 54,
   "metadata": {},
   "outputs": [],
   "source": [
    "if torch.cuda.is_available():\n",
    "    device = torch.device(\"cuda\")\n",
    "else:\n",
    "    device = torch.device(\"cpu\")"
   ]
  },
  {
   "cell_type": "code",
   "execution_count": 78,
   "metadata": {},
   "outputs": [
    {
     "data": {
      "text/plain": [
       "torch.Size([1, 73, 73])"
      ]
     },
     "execution_count": 78,
     "metadata": {},
     "output_type": "execute_result"
    }
   ],
   "source": [
    "img.shape"
   ]
  },
  {
   "cell_type": "code",
   "execution_count": 105,
   "metadata": {},
   "outputs": [
    {
     "name": "stdout",
     "output_type": "stream",
     "text": [
      "COMPLETE FEATURE [((48.82989501953125, 6.263674736022949), (20.343374252319336, 32.146846771240234), 105.35357666015625)] [53.51069632639903] [True] (60, 60)\n",
      "BORDERTOUCHER [((59.61574172973633, 58.90840148925781), (25.211191177368164, 34.57936096191406), 44.78602600097656)] [99.31199748731792] [False] (116, 116)\n",
      "BORDERTOUCHER [((54.292457580566406, 65.53627014160156), (16.05936622619629, 18.3636417388916), 72.26839447021484), ((64.37913513183594, 67.474609375), (49.79529571533203, 56.243343353271484), 150.2412872314453)] [35.21086155755461, 35.21086155755461] [False, True] (118, 118)\n",
      "BORDERTOUCHER [((58.212276458740234, 65.18766021728516), (27.621051788330078, 40.38190460205078), 79.3271484375)] [155.52025011127344] [False] (128, 128)\n",
      "BORDERTOUCHER [((110.73380279541016, 106.49626159667969), (9.009108543395996, 15.652850151062012), 41.544918060302734), ((11.061250686645508, 104.27674865722656), (9.930208206176758, 39.22031784057617), 115.22694396972656), ((45.5800895690918, 61.65949630737305), (8.98413372039795, 13.58029556274414), 175.2375946044922), ((64.76895141601562, 48.474273681640625), (8.73620891571045, 10.756895065307617), 123.97517395019531), ((15.837337493896484, 5.162166595458984), (5.743640899658203, 12.391266822814941), 2.2167744636535645)] [397.5791370537913, 397.5791370537913, 397.5791370537913, 397.5791370537913, 397.5791370537913] [True, True, False, False, True] (114, 114)\n",
      "BORDERTOUCHER [((164.53012084960938, 146.76844787597656), (4.776995658874512, 19.108007431030273), 0.0), ((8.972650527954102, 154.8021240234375), (9.873384475708008, 27.913846969604492), 138.1554718017578), ((69.41178894042969, 89.95541381835938), (10.392596244812012, 15.044174194335938), 147.56370544433594)] [1381.6670435909593, 1381.6670435909593, 1381.6670435909593] [True, True, False] (166, 166)\n",
      "BORDERTOUCHER [((40.14261245727539, 33.574989318847656), (31.207502365112305, 36.52246856689453), 67.44727325439453)] [81.35432648841909] [True] (116, 116)\n",
      "NO FEATURE [] [] [] (68, 68)\n",
      "BORDERTOUCHER [((8.15929889678955, 156.08102416992188), (11.576480865478516, 26.553464889526367), 123.75978088378906), ((68.44800567626953, 91.3994369506836), (11.828051567077637, 15.508419036865234), 6.718610763549805), ((92.89574432373047, 77.09081268310547), (6.761142730712891, 9.048975944519043), 160.09136962890625)] [1152.8062920743796, 1152.8062920743796, 1152.8062920743796] [True, False, False] (166, 166)\n",
      "BORDERTOUCHER [((146.82276916503906, 147.68565368652344), (30.592187881469727, 52.745079040527344), 1.7650161981582642)] [1256.9548422082996] [False] (306, 306)\n",
      "BORDERTOUCHER [((24.10170555114746, 16.00872802734375), (29.335216522216797, 33.881412506103516), 12.76439380645752)] [6.708823107730433] [True] (38, 38)\n",
      "BORDERTOUCHER [((72.3259506225586, 55.511539459228516), (45.87678527832031, 58.83943557739258), 142.68145751953125)] [33.09946750802403] [True] (118, 118)\n",
      "COMPLETE FEATURE [((104.8547134399414, 54.58489227294922), (40.79498291015625, 51.378726959228516), 177.35643005371094)] [27.392516839613688] [True] (96, 96)\n",
      "NO FEATURE [] [] [] (130, 130)\n",
      "COMPLETE FEATURE [] [0.33624313332334477] [False] (48, 48)\n",
      "BORDERTOUCHER [((169.65554809570312, 171.44598388671875), (44.08696365356445, 59.2581672668457), 146.25155639648438)] [699.5752736818021] [False] (352, 352)\n",
      "BORDERTOUCHER [((55.205055236816406, 61.268577575683594), (24.707340240478516, 33.133384704589844), 50.7386589050293)] [109.71480171619059] [False] (116, 116)\n",
      "BORDERTOUCHER [((113.41471862792969, 120.09394073486328), (15.448193550109863, 24.28694725036621), 146.06503295898438)] [2160.54258654299] [False] (248, 248)\n",
      "BORDERTOUCHER [((96.85369110107422, 84.20751190185547), (24.233627319335938, 37.15325164794922), 87.80810546875)] [368.688734997906] [False] (166, 166)\n",
      "NO FEATURE [] [] [] (96, 96)\n",
      "BORDERTOUCHER [((170.33216857910156, 167.619384765625), (37.876121520996094, 46.55876922607422), 167.36219787597656)] [1300.051037007913] [False] (352, 352)\n",
      "COMPLETE FEATURE [((7.63458251953125, 6.580803394317627), (17.419479370117188, 36.789268493652344), 74.56742858886719)] [29.03108034118115] [True] (46, 46)\n"
     ]
    }
   ],
   "source": [
    "for img, cls in [ds_eval[i] for i in range(len(ds_eval))]:\n",
    "    \n",
    "    with torch.no_grad():\n",
    "        pred = torch.nn.functional.upsample(m(img.unsqueeze(0)), scale_factor=(2,2), mode=\"bilinear\")\n",
    "        pred = pred[0].squeeze()\n",
    "    \n",
    "    mask = back_tf(pred)\n",
    "    probs = torch.sigmoid(pred).data.numpy()\n",
    "    \n",
    "    ellipses, propabilities, border_checker = detect_features(mask, probs)\n",
    "    \n",
    "    print(label_map(cls), ellipses, propabilities, border_checker, mask.shape)\n",
    "    img_a = cv2.cvtColor(mask, cv2.COLOR_GRAY2BGR)\n",
    "    \n",
    "    for ell, is_border in zip(ellipses, border_checker):\n",
    "        color = (255,0,0) if is_border else (0,255,0)\n",
    "        cv2.ellipse(img_a, ell, color, 2)\n",
    "    \n",
    "    cv2.imshow(\"test2\", img_a)\n",
    "    cv2.waitKey(1)"
   ]
  },
  {
   "cell_type": "code",
   "execution_count": null,
   "metadata": {},
   "outputs": [],
   "source": [
    "#Todo: finetune ellipse/no-ellipse\n",
    "#Measure accuracy of classification\n",
    "#Send to API"
   ]
  },
  {
   "cell_type": "code",
   "execution_count": 101,
   "metadata": {},
   "outputs": [
    {
     "data": {
      "text/plain": [
       "<matplotlib.image.AxesImage at 0x131960c50>"
      ]
     },
     "execution_count": 101,
     "metadata": {},
     "output_type": "execute_result"
    },
    {
     "data": {
      "image/png": "[encoded data removed]",
      "text/plain": [
       "<Figure size 432x288 with 2 Axes>"
      ]
     },
     "metadata": {
      "needs_background": "light"
     },
     "output_type": "display_data"
    }
   ],
   "source": [
    "img, label = ds_eval.__getitem__(np.random.randint(ds_eval.__len__()))\n",
    "with torch.no_grad():\n",
    "    out = m(img.unsqueeze(0))\n",
    "  \n",
    "im = back_tf(out[0,0])\n",
    "(t, segmentation) = cv2.threshold(im, 100, 255, cv2.THRESH_BINARY)\n",
    "fig, ax = plt.subplots(1,2)\n",
    "ax[0].imshow(im)\n",
    "ax[1].imshow(segmentation)"
   ]
  },
  {
   "cell_type": "code",
   "execution_count": null,
   "metadata": {},
   "outputs": [],
   "source": []
  }
 ],
 "metadata": {
  "kernelspec": {
   "display_name": "Python 3",
   "language": "python",
   "name": "python3"
  },
  "language_info": {
   "codemirror_mode": {
    "name": "ipython",
    "version": 3
   },
   "file_extension": ".py",
   "mimetype": "text/x-python",
   "name": "python",
   "nbconvert_exporter": "python",
   "pygments_lexer": "ipython3",
   "version": "3.6.7"
  }
 },
 "nbformat": 4,
 "nbformat_minor": 2
}
